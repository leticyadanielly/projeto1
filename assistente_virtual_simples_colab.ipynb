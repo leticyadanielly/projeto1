{
  "cells": [
    {
      "cell_type": "markdown",
      "metadata": {
        "id": "view-in-github",
        "colab_type": "text"
      },
      "source": [
        "<a href=\"https://colab.research.google.com/github/leticyadanielly/projeto1/blob/main/assistente_virtual_simples_colab.ipynb\" target=\"_parent\"><img src=\"https://colab.research.google.com/assets/colab-badge.svg\" alt=\"Open In Colab\"/></a>"
      ]
    },
    {
      "cell_type": "code",
      "execution_count": 1,
      "id": "f999a536",
      "metadata": {
        "colab": {
          "base_uri": "https://localhost:8080/"
        },
        "id": "f999a536",
        "outputId": "19f81176-494b-4e36-85e0-5b21692577fe"
      },
      "outputs": [
        {
          "output_type": "stream",
          "name": "stdout",
          "text": [
            "  Preparing metadata (setup.py) ... \u001b[?25l\u001b[?25hdone\n",
            "\u001b[2K   \u001b[90m━━━━━━━━━━━━━━━━━━━━━━━━━━━━━━━━━━━━━━━━\u001b[0m \u001b[32m32.9/32.9 MB\u001b[0m \u001b[31m37.1 MB/s\u001b[0m eta \u001b[36m0:00:00\u001b[0m\n",
            "\u001b[2K   \u001b[90m━━━━━━━━━━━━━━━━━━━━━━━━━━━━━━━━━━━━━━━━\u001b[0m \u001b[32m98.2/98.2 kB\u001b[0m \u001b[31m6.3 MB/s\u001b[0m eta \u001b[36m0:00:00\u001b[0m\n",
            "\u001b[?25h  Building wheel for wikipedia (setup.py) ... \u001b[?25l\u001b[?25hdone\n"
          ]
        }
      ],
      "source": [
        "\n",
        "!pip install -q gradio gtts SpeechRecognition wikipedia\n"
      ]
    },
    {
      "cell_type": "code",
      "execution_count": 4,
      "id": "4be0075c",
      "metadata": {
        "colab": {
          "base_uri": "https://localhost:8080/",
          "height": 625
        },
        "id": "4be0075c",
        "outputId": "c7c9713a-5c6f-4aba-fbaf-1905565e2f39"
      },
      "outputs": [
        {
          "output_type": "stream",
          "name": "stdout",
          "text": [
            "It looks like you are running Gradio on a hosted Jupyter notebook, which requires `share=True`. Automatically setting `share=True` (you can turn this off by setting `share=False` in `launch()` explicitly).\n",
            "\n",
            "Colab notebook detected. To show errors in colab notebook, set debug=True in launch()\n",
            "* Running on public URL: https://a410ce140f6de8ee4d.gradio.live\n",
            "\n",
            "This share link expires in 1 week. For free permanent hosting and GPU upgrades, run `gradio deploy` from the terminal in the working directory to deploy to Hugging Face Spaces (https://huggingface.co/spaces)\n"
          ]
        },
        {
          "output_type": "display_data",
          "data": {
            "text/plain": [
              "<IPython.core.display.HTML object>"
            ],
            "text/html": [
              "<div><iframe src=\"https://a410ce140f6de8ee4d.gradio.live\" width=\"100%\" height=\"500\" allow=\"autoplay; camera; microphone; clipboard-read; clipboard-write;\" frameborder=\"0\" allowfullscreen></iframe></div>"
            ]
          },
          "metadata": {}
        },
        {
          "output_type": "execute_result",
          "data": {
            "text/plain": []
          },
          "metadata": {},
          "execution_count": 4
        }
      ],
      "source": [
        "import gradio as gr\n",
        "import speech_recognition as sr\n",
        "from gtts import gTTS\n",
        "import wikipedia\n",
        "import tempfile\n",
        "\n",
        "wikipedia.set_lang(\"pt\")\n",
        "\n",
        "def assistente(audio):\n",
        "    recognizer = sr.Recognizer()\n",
        "    texto_comando = \"\"\n",
        "    resposta = \"\"\n",
        "\n",
        "    try:\n",
        "        with sr.AudioFile(audio) as source:\n",
        "            audio_data = recognizer.record(source)\n",
        "            texto_comando = recognizer.recognize_google(audio_data, language=\"pt-BR\")\n",
        "    except Exception as e:\n",
        "        return \"\", f\"Erro ao processar áudio: {e}\", None\n",
        "\n",
        "    cmd = texto_comando.lower()\n",
        "\n",
        "    if \"wikipedia\" in cmd:\n",
        "        termo = cmd.replace(\"pesquisar na wikipedia\", \"\").strip()\n",
        "        try:\n",
        "            resposta = wikipedia.summary(termo, sentences=2)\n",
        "        except:\n",
        "            resposta = f\"Não encontrei resultados para {termo}.\"\n",
        "    elif \"abrir youtube\" in cmd:\n",
        "        resposta = \"Abrindo YouTube.\"\n",
        "        link = \"https://www.youtube.com\"\n",
        "    elif \"pesquisar no google\" in cmd:\n",
        "        termo = cmd.replace(\"pesquisar no google\", \"\").strip()\n",
        "        resposta = f\"Pesquisando por {termo} no Google.\"\n",
        "        link = f\"https://www.google.com/search?q={termo.replace(' ', '+')}\"\n",
        "    elif \"farmácia mais próxima\" in cmd:\n",
        "        resposta = \"Mostrando farmácias próximas.\"\n",
        "        link = \"https://www.google.com/maps/search/farmácia+mais+próxima/\"\n",
        "    else:\n",
        "        resposta = \"Comando não reconhecido.\"\n",
        "        link = None\n",
        "\n",
        "    # Gerar áudio da resposta\n",
        "    tts = gTTS(resposta, lang=\"pt\")\n",
        "    fd, path = tempfile.mkstemp(suffix=\".mp3\")\n",
        "    tts.save(path)\n",
        "\n",
        "    return texto_comando, resposta, path\n",
        "\n",
        "gr.Interface(\n",
        "    fn=assistente,\n",
        "    inputs=gr.Audio(type=\"filepath\", label=\"Grave seu comando\"),\n",
        "    outputs=[\n",
        "        gr.Textbox(label=\"Texto reconhecido\"),\n",
        "        gr.Textbox(label=\"Resposta\"),\n",
        "        gr.Audio(label=\"Áudio da resposta\")\n",
        "    ],\n",
        "    title=\"Assistente Virtual (Colab)\",\n",
        "    description=\"Grave um comando de voz: 'pesquisar na wikipedia Python', 'abrir youtube', 'pesquisar no google OpenAI', 'farmácia mais próxima'.\"\n",
        ").launch()"
      ]
    }
  ],
  "metadata": {
    "colab": {
      "provenance": [],
      "include_colab_link": true
    },
    "language_info": {
      "name": "python"
    },
    "kernelspec": {
      "name": "python3",
      "display_name": "Python 3"
    }
  },
  "nbformat": 4,
  "nbformat_minor": 5
}